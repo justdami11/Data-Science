{
 "cells": [
  {
   "cell_type": "markdown",
   "id": "6f2aefab",
   "metadata": {},
   "source": [
    "# Linear Algebra Toolbox — Examples\n",
    "\n",
    "\n",
    "This script demonstrates how to use each function from the `toolbox.py` module\n",
    "for essential linear algebra operations using only NumPy.\n"
   ]
  }
 ],
 "metadata": {
  "language_info": {
   "name": "python"
  }
 },
 "nbformat": 4,
 "nbformat_minor": 5
}

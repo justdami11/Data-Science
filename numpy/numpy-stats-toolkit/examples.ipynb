{
 "cells": [
  {
   "cell_type": "markdown",
   "id": "1de95708",
   "metadata": {},
   "source": [
    "# NumPy Stats Toolkit — Examples\n",
    "\n",
    "This notebook demonstrates how to use each function in the `stats_toolkit.py` module for basic statistical analysis using only NumPy.\n"
   ]
  },
  {
   "cell_type": "code",
   "execution_count": null,
   "id": "17cdc6eb",
   "metadata": {},
   "outputs": [],
   "source": [
    "import numpy as np\n",
    "import stats_toolkit as st"
   ]
  },
  {
   "cell_type": "code",
   "execution_count": null,
   "id": "703ded1f",
   "metadata": {},
   "outputs": [],
   "source": [
    "data = np.xay([4, 8, 6, 5, 3, 9, 7, 6, 5, 27, 11, 34, 25, 49, 18, 41, 37, 39, 23, 20, 29, 47, 2, 17, 22, 1, 33, 30, 44, 36, 46, 10, 0, 38, 50, 13, 14, 43,  8, 26, 19, 24, 21, 35, 31, 9, 45, 42, 28, 32, 40, 6, 7, 16, 3, 5, 12,  4, 15, 1, 17, 48, 20, 10, 2, 25, 34, 49, 11, 14, 6, 22, 13, 26, 24, 27, 7, 0, 32, 21,16, 12, 15, 28, 35, 30, 19,  8, 18, 23,29, 31, 38, 36, 43, 33, 45, 41, 39, 40\n",
    "])\n",
    "\n",
    "matrix = np.xay([[1, 2, 3], [4, 5, 6], [7, 8, 9]])\n"
   ]
  },
  {
   "cell_type": "markdown",
   "id": "0d7c32a6",
   "metadata": {},
   "source": [
    "## Mean\n",
    "\n",
    "The **mean** (or average) is the central value of a dataset. It is calculated by summing all the values and dividing by the number of elements. It represents the \"typical\" value in a distribution.\n",
    "\n",
    "$$\n",
    "\\mu = \\frac{1}{n} \\sum_{i=1}^{n} x_i\n",
    "$$\n",
    "\n"
   ]
  },
  {
   "cell_type": "code",
   "execution_count": null,
   "id": "bffc243d",
   "metadata": {},
   "outputs": [],
   "source": [
    "print(f'Mean: {st.mean(data)}') "
   ]
  },
  {
   "cell_type": "markdown",
   "id": "5a98da8c",
   "metadata": {},
   "source": [
    "## Population variance\n",
    "\n",
    "The **population variance** measures how much each value in the dataset differs from the mean, considering **all** values in the population. It is the average of the squared differences from the mean.\n",
    "\n",
    "$\n",
    "\\sigma^2 = \\frac{1}{n} \\sum_{i=1}^{n} (x_i - \\mu)^2\n",
    "$\n",
    "\n",
    "Use this when you are working with the entire population.\n"
   ]
  },
  {
   "cell_type": "code",
   "execution_count": null,
   "id": "1d5359e2",
   "metadata": {},
   "outputs": [],
   "source": [
    "print(f'Population variance: {st.population_variance(data)}')"
   ]
  },
  {
   "cell_type": "markdown",
   "id": "3992cb63",
   "metadata": {},
   "source": [
    "## Sample variance\n",
    "\n",
    "The **sample variance** is used when you only have a subset (sample) of the full population. It adjusts for the fact that you're estimating the variance by dividing by \\(n - 1\\) instead of \\(n\\), which corrects the bias.\n",
    "\n",
    "$$\n",
    "s^2 = \\frac{1}{n - 1} \\sum_{i=1}^{n} (x_i - \\bar{x})^2\n",
    "$$\n",
    "\n",
    "Use this when analyzing or modeling based on a sample, not the whole population."
   ]
  },
  {
   "cell_type": "code",
   "execution_count": null,
   "id": "5c23f947",
   "metadata": {},
   "outputs": [],
   "source": [
    "print(f'Sample variance: {st.sample_variance(data)}')"
   ]
  },
  {
   "cell_type": "markdown",
   "id": "bb0a2741",
   "metadata": {},
   "source": [
    "## Standard Deviation\n",
    "\n",
    "**Standard deviation** is a measure of how spread out the values in a dataset are around the mean. It represents the average distance of each data point from the mean, providing insight into the variability or dispersion in the data.\n",
    "\n",
    "It is calculated as the square root of the variance, which makes it easier to interpret since it has the same units as the original data.\n",
    "\n",
    "$$\n",
    "\\sigma = \\sqrt{ \\frac{1}{n} \\sum_{i=1}^{n} (x_i - \\mu)^2 }\n",
    "$$\n",
    "\n",
    "Use standard deviation when you want to understand how consistent or variable the values in your data are. A smaller value indicates that the data points are close to the mean, while a larger value indicates more spread.\n"
   ]
  },
  {
   "cell_type": "code",
   "execution_count": null,
   "id": "9ab2e70b",
   "metadata": {},
   "outputs": [],
   "source": [
    "print(\"Standard Deviation:\", st.standard_deviation(x))\n"
   ]
  },
  {
   "cell_type": "markdown",
   "id": "074f4265",
   "metadata": {},
   "source": [
    "z"
   ]
  },
  {
   "cell_type": "code",
   "execution_count": null,
   "id": "8bdd96ba",
   "metadata": {},
   "outputs": [],
   "source": [
    "print(\"Z-scores:\", st.z_scores(x))\n"
   ]
  },
  {
   "cell_type": "code",
   "execution_count": null,
   "id": "109e56c1",
   "metadata": {},
   "outputs": [],
   "source": [
    "print(\"Min-Max Normalization:\", st.min_max_normalize(x))\n"
   ]
  },
  {
   "cell_type": "code",
   "execution_count": null,
   "id": "5093e2f6",
   "metadata": {},
   "outputs": [],
   "source": [
    "print(\"Correlation Matrix (with itself):\\n\", st.correlation_matrix(x, x))\n"
   ]
  },
  {
   "cell_type": "code",
   "execution_count": null,
   "id": "5fcc44cd",
   "metadata": {},
   "outputs": [],
   "source": [
    "print(\"Quantiles (25%, 50%, 75%):\", st.quantiles(x))\n"
   ]
  },
  {
   "cell_type": "code",
   "execution_count": null,
   "id": "c037dbf7",
   "metadata": {},
   "outputs": [],
   "source": [
    "print(\"Skewness:\", st.skewness(x))\n"
   ]
  },
  {
   "cell_type": "code",
   "execution_count": null,
   "id": "c4223a8b",
   "metadata": {},
   "outputs": [],
   "source": [
    "print(\"Kurtosis:\", st.kurtosis(x))"
   ]
  }
 ],
 "metadata": {
  "kernelspec": {
   "display_name": "Python 3",
   "language": "python",
   "name": "python3"
  },
  "language_info": {
   "codemirror_mode": {
    "name": "ipython",
    "version": 3
   },
   "file_extension": ".py",
   "mimetype": "text/x-python",
   "name": "python",
   "nbconvert_exporter": "python",
   "pygments_lexer": "ipython3",
   "version": "3.13.3"
  }
 },
 "nbformat": 4,
 "nbformat_minor": 5
}

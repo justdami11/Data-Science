{
 "cells": [
  {
   "cell_type": "markdown",
   "id": "1de95708",
   "metadata": {},
   "source": [
    "# NumPy Stats Toolkit — Examples\n",
    "\n",
    "This notebook demonstrates how to use each function in the `stats_toolkit.py` module for basic statistical analysis using only NumPy.\n"
   ]
  },
  {
   "cell_type": "code",
   "execution_count": 32,
   "id": "17cdc6eb",
   "metadata": {},
   "outputs": [],
   "source": [
    "import numpy as np\n",
    "import stats_toolkit as st\n",
    "\n"
   ]
  },
  {
   "cell_type": "code",
   "execution_count": 24,
   "id": "703ded1f",
   "metadata": {},
   "outputs": [],
   "source": [
    "data = np.array([4, 8, 6, 5, 3, 9, 7, 6, 5])\n",
    "matrix = np.array([[1, 2, 3], [4, 5, 6], [7, 8, 9]])\n"
   ]
  },
  {
   "cell_type": "markdown",
   "id": "d0a0f19a",
   "metadata": {},
   "source": [
    "## Mean"
   ]
  },
  {
   "cell_type": "code",
   "execution_count": 35,
   "id": "bffc243d",
   "metadata": {},
   "outputs": [
    {
     "name": "stdout",
     "output_type": "stream",
     "text": [
      "Mean: 9\n"
     ]
    }
   ],
   "source": [
    "print(f'Mean: {st.mean(data)}')\n"
   ]
  },
  {
   "cell_type": "markdown",
   "id": "a84570fd",
   "metadata": {},
   "source": [
    "## Variance"
   ]
  },
  {
   "cell_type": "code",
   "execution_count": 27,
   "id": "1d5359e2",
   "metadata": {},
   "outputs": [
    {
     "ename": "NameError",
     "evalue": "name 'sample_variance' is not defined",
     "output_type": "error",
     "traceback": [
      "\u001b[31m---------------------------------------------------------------------------\u001b[39m",
      "\u001b[31mNameError\u001b[39m                                 Traceback (most recent call last)",
      "\u001b[36mCell\u001b[39m\u001b[36m \u001b[39m\u001b[32mIn[27]\u001b[39m\u001b[32m, line 4\u001b[39m\n\u001b[32m      1\u001b[39m \u001b[38;5;66;03m#print(f'Population variance: {population_variance(data)}')\u001b[39;00m\n\u001b[32m----> \u001b[39m\u001b[32m4\u001b[39m \u001b[38;5;28mprint\u001b[39m(\u001b[33mf\u001b[39m\u001b[33m'\u001b[39m\u001b[33mSample variance: \u001b[39m\u001b[38;5;132;01m{\u001b[39;00m\u001b[43msample_variance\u001b[49m(data)\u001b[38;5;132;01m}\u001b[39;00m\u001b[33m'\u001b[39m)\n",
      "\u001b[31mNameError\u001b[39m: name 'sample_variance' is not defined"
     ]
    }
   ],
   "source": [
    "#print(f'Population variance: {population_variance(data)}')\n",
    "\n",
    "\n",
    "print(f'Sample variance: {sample_variance(data)}')\n",
    "\n"
   ]
  }
 ],
 "metadata": {
  "kernelspec": {
   "display_name": "Python 3",
   "language": "python",
   "name": "python3"
  },
  "language_info": {
   "codemirror_mode": {
    "name": "ipython",
    "version": 3
   },
   "file_extension": ".py",
   "mimetype": "text/x-python",
   "name": "python",
   "nbconvert_exporter": "python",
   "pygments_lexer": "ipython3",
   "version": "3.13.3"
  }
 },
 "nbformat": 4,
 "nbformat_minor": 5
}

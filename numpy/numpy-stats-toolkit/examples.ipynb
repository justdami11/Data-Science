{
 "cells": [
  {
   "cell_type": "markdown",
   "id": "1de95708",
   "metadata": {},
   "source": [
    "# NumPy Stats Toolkit — Examples\n",
    "\n",
    "This notebook demonstrates how to use each function in the `stats_toolkit.py` module for basic statistical analysis using only NumPy.\n"
   ]
  },
  {
   "cell_type": "code",
   "execution_count": 1,
   "id": "17cdc6eb",
   "metadata": {},
   "outputs": [],
   "source": [
    "import numpy as np\n",
    "import stats_toolkit as st"
   ]
  },
  {
   "cell_type": "code",
   "execution_count": 2,
   "id": "703ded1f",
   "metadata": {},
   "outputs": [],
   "source": [
    "data = np.array([4, 8, 6, 5, 3, 9, 7, 6, 5, 27, 11, 34, 25, 49, 18, 41, 37, 39, 23, 20, 29, 47, 2, 17, 22, 1, 33, 30, 44, 36, 46, 10, 0, 38, 50, 13, 14, 43,  8, 26, 19, 24, 21, 35, 31, 9, 45, 42, 28, 32, 40, 6, 7, 16, 3, 5, 12,  4, 15, 1, 17, 48, 20, 10, 2, 25, 34, 49, 11, 14, 6, 22, 13, 26, 24, 27, 7, 0, 32, 21,16, 12, 15, 28, 35, 30, 19,  8, 18, 23,29, 31, 38, 36, 43, 33, 45, 41, 39, 40\n",
    "])\n",
    "\n",
    "matrix = np.array([[1, 2, 3], [4, 5, 6], [7, 8, 9]])\n"
   ]
  },
  {
   "cell_type": "markdown",
   "id": "0d7c32a6",
   "metadata": {},
   "source": [
    "## Mean\n",
    "\n",
    "The **mean** (or average) is the central value of a dataset. It is calculated by summing all the values and dividing by the number of elements. It represents the \"typical\" value in a distribution.\n",
    "\n",
    "$$\n",
    "\\mu = \\frac{1}{n} \\sum_{i=1}^{n} x_i\n",
    "$$\n",
    "\n",
    "\n",
    "**Where:**\n",
    "- $ n $ = total number of values in the population  \n",
    "- $ x_i $ = each individual value in the dataset  \n"
   ]
  },
  {
   "cell_type": "code",
   "execution_count": 3,
   "id": "bffc243d",
   "metadata": {},
   "outputs": [
    {
     "name": "stdout",
     "output_type": "stream",
     "text": [
      "Mean: 22.68\n"
     ]
    }
   ],
   "source": [
    "print(f'Mean: {st.mean(data)}') "
   ]
  },
  {
   "cell_type": "markdown",
   "id": "5a98da8c",
   "metadata": {},
   "source": [
    "## Population Variance\n",
    "\n",
    "The **population variance** measures how much each value in the dataset differs from the mean, considering **all** values in the population. It quantifies the overall spread of the data by calculating the average of the squared differences from the mean.\n",
    "\n",
    "$$\n",
    "\\sigma^2 = \\frac{1}{n} \\sum_{i=1}^{n} (x_i - \\mu)^2\n",
    "$$\n",
    "\n",
    "**Where:**\n",
    "- $ n $ = total number of values in the population  \n",
    "- $ x_i $ = each individual value in the dataset  \n",
    "- $ \\mu $ = the population mean (average of all values)  \n"
   ]
  },
  {
   "cell_type": "code",
   "execution_count": 4,
   "id": "1d5359e2",
   "metadata": {},
   "outputs": [
    {
     "name": "stdout",
     "output_type": "stream",
     "text": [
      "Population variance: 204.23760000000004\n"
     ]
    }
   ],
   "source": [
    "print(f'Population variance: {st.population_variance(data)}')"
   ]
  },
  {
   "cell_type": "markdown",
   "id": "3992cb63",
   "metadata": {},
   "source": [
    "## Sample variance\n",
    "\n",
    "The **sample variance** is used when you only have a subset (sample) of the full population. It adjusts for the fact that you're estimating the variance by dividing by $n - 1$ instead of $n$, which corrects the bias.\n",
    "\n",
    "$$\n",
    "s^2 = \\frac{1}{n - 1} \\sum_{i=1}^{n} (x_i - \\bar{x})^2\n",
    "$$"
   ]
  },
  {
   "cell_type": "code",
   "execution_count": 5,
   "id": "5c23f947",
   "metadata": {},
   "outputs": [
    {
     "name": "stdout",
     "output_type": "stream",
     "text": [
      "Sample variance: 206.30060606060613\n"
     ]
    }
   ],
   "source": [
    "print(f'Sample variance: {st.sample_variance(data)}')"
   ]
  },
  {
   "cell_type": "markdown",
   "id": "bb0a2741",
   "metadata": {},
   "source": [
    "## Standard Deviation\n",
    "\n",
    "**Standard deviation** is a measure of how spread out the values in a dataset are around the mean. It represents the average distance of each data point from the mean, providing insight into the variability or dispersion in the data.\n",
    "\n",
    "It is calculated as the square root of the variance, which makes it easier to interpret since it has the same units as the original data.\n",
    "\n",
    "$$\n",
    "\\sigma = \\sqrt{ \\frac{1}{n} \\sum_{i=1}^{n} (x_i - \\mu)^2 }\n",
    "$$\n",
    "\n",
    "**Where:**\n",
    "- $ n $ = number of data points  \n",
    "- $ x_i $ = each individual value in the dataset  \n",
    "- $ \\mu $ = the mean of the dataset  \n",
    "\n",
    "\n",
    "\n"
   ]
  },
  {
   "cell_type": "code",
   "execution_count": 6,
   "id": "9ab2e70b",
   "metadata": {},
   "outputs": [
    {
     "name": "stdout",
     "output_type": "stream",
     "text": [
      "Standard Deviation: 14.291172100286248\n"
     ]
    }
   ],
   "source": [
    "print(\"Standard Deviation:\", st.standard_deviation(data))"
   ]
  },
  {
   "cell_type": "markdown",
   "id": "074f4265",
   "metadata": {},
   "source": [
    "## Z-Scores\n",
    "\n",
    "A **z-score** indicates how many standard deviations a data point is from the mean of the dataset. It is a way to standardize values, allowing for comparison across different scales or distributions.\n",
    "\n",
    "Z-scores are useful for detecting outliers, comparing values from different distributions, and preparing data for machine learning algorithms that are sensitive to feature scales.\n",
    "\n",
    "$$\n",
    "z = \\frac{x - \\mu}{\\sigma}\n",
    "$$\n",
    "\n",
    "Where:\n",
    "- $ x $ is the data point  \n",
    "- $ \\mu $ is the mean  \n",
    "- $ \\sigma $ is the standard deviation\n",
    "\n"
   ]
  },
  {
   "cell_type": "code",
   "execution_count": 7,
   "id": "8bdd96ba",
   "metadata": {},
   "outputs": [
    {
     "name": "stdout",
     "output_type": "stream",
     "text": [
      "Z-scores: [-1.30710063 -1.02720756 -1.16715409 -1.23712736 -1.37707389 -0.95723429\n",
      " -1.09718083 -1.16715409 -1.23712736  0.30228451 -0.81728776  0.79209738\n",
      "  0.16233798  1.84169639 -0.32747489  1.28191025  1.00201718  1.14196372\n",
      "  0.02239145 -0.18752836  0.44223105  1.70174985 -1.44704716 -0.39744816\n",
      " -0.04758182 -1.51702043  0.72212411  0.51220431  1.49183005  0.93204392\n",
      "  1.63177658 -0.88726102 -1.58699369  1.07199045  1.91166965 -0.67734122\n",
      " -0.60736796  1.42185678 -1.02720756  0.23231125 -0.25750162  0.09236471\n",
      " -0.11755509  0.86207065  0.58217758 -0.95723429  1.56180332  1.35188352\n",
      "  0.37225778  0.65215085  1.21193698 -1.16715409 -1.09718083 -0.46742142\n",
      " -1.37707389 -1.23712736 -0.74731449 -1.30710063 -0.53739469 -1.51702043\n",
      " -0.39744816  1.77172312 -0.18752836 -0.88726102 -1.44704716  0.16233798\n",
      "  0.79209738  1.84169639 -0.81728776 -0.60736796 -1.16715409 -0.04758182\n",
      " -0.67734122  0.23231125  0.09236471  0.30228451 -1.09718083 -1.58699369\n",
      "  0.65215085 -0.11755509 -0.46742142 -0.74731449 -0.53739469  0.37225778\n",
      "  0.86207065  0.51220431 -0.25750162 -1.02720756 -0.32747489  0.02239145\n",
      "  0.44223105  0.58217758  1.07199045  0.93204392  1.42185678  0.72212411\n",
      "  1.56180332  1.28191025  1.14196372  1.21193698]\n"
     ]
    }
   ],
   "source": [
    "print(\"Z-scores:\", st.z_scores(data))"
   ]
  },
  {
   "cell_type": "markdown",
   "id": "53ac5bec",
   "metadata": {},
   "source": [
    "## Min-Max Normalization\n",
    "\n",
    "**Min-max normalization** is a technique used to scale numerical data to a fixed range, typically **between 0 and 1**. This transformation preserves the relationships between values but shifts and scales them so that the smallest value becomes 0 and the largest becomes 1.\n",
    "\n",
    "This method is especially useful in **machine learning algorithms** that are sensitive to the scale of features, such as K-nearest neighbors (KNN), support vector machines (SVM), and gradient descent-based models.\n",
    "\n",
    "$$\n",
    "x_{\\text{normalized}} = \\frac{x - \\min(x)}{\\max(x) - \\min(x)}\n",
    "$$\n",
    "\n",
    "Where:\n",
    "- $ x $ is the original value  \n",
    "- $ \\min(x) $ is the minimum value in the dataset  \n",
    "- $ \\max(x) $ is the maximum value in the dataset\n",
    "\n",
    "After normalization:\n",
    "- The minimum value becomes **0**\n",
    "- The maximum value becomes **1**\n",
    "- All other values are proportionally scaled between 0 and 1\n"
   ]
  },
  {
   "cell_type": "code",
   "execution_count": 8,
   "id": "109e56c1",
   "metadata": {},
   "outputs": [
    {
     "name": "stdout",
     "output_type": "stream",
     "text": [
      "Min-Max Normalization:\n",
      " [0.08 0.16 0.12 0.1  0.06 0.18 0.14 0.12 0.1  0.54 0.22 0.68 0.5  0.98\n",
      " 0.36 0.82 0.74 0.78 0.46 0.4  0.58 0.94 0.04 0.34 0.44 0.02 0.66 0.6\n",
      " 0.88 0.72 0.92 0.2  0.   0.76 1.   0.26 0.28 0.86 0.16 0.52 0.38 0.48\n",
      " 0.42 0.7  0.62 0.18 0.9  0.84 0.56 0.64 0.8  0.12 0.14 0.32 0.06 0.1\n",
      " 0.24 0.08 0.3  0.02 0.34 0.96 0.4  0.2  0.04 0.5  0.68 0.98 0.22 0.28\n",
      " 0.12 0.44 0.26 0.52 0.48 0.54 0.14 0.   0.64 0.42 0.32 0.24 0.3  0.56\n",
      " 0.7  0.6  0.38 0.16 0.36 0.46 0.58 0.62 0.76 0.72 0.86 0.66 0.9  0.82\n",
      " 0.78 0.8 ]\n"
     ]
    }
   ],
   "source": [
    "print(\"Min-Max Normalization:\\n\", st.min_max_normalize(data))"
   ]
  },
  {
   "cell_type": "markdown",
   "id": "ada05605",
   "metadata": {},
   "source": [
    "## Quantiles\n",
    "\n",
    "**Quantiles** are cut points that divide a dataset into equal-sized, ordered subgroups based on the distribution of values. They help describe the **spread and shape** of the data by showing where values fall relative to others in the distribution.\n",
    "\n",
    "Common types of quantiles include:\n",
    "- **Quartiles**: divide the data into four parts (25% each)\n",
    "- **Percentiles**: divide the data into 100 parts (1% each)\n",
    "- **Deciles**: divide the data into 10 parts (10% each)\n",
    "\n",
    "Quantiles are especially useful for:\n",
    "- Identifying the **center** (like the median)\n",
    "- Describing the **spread** of the data\n",
    "- Detecting **outliers** using the interquartile range (IQR)\n",
    "\n",
    "### Interquartile Range (IQR)\n",
    "The IQR is the range between the 25th percentile (Q1) and the 75th percentile (Q3):\n",
    "\n",
    "$$\n",
    "\\text{IQR} = Q3 - Q1\n",
    "$$\n",
    "\n",
    "This shows the range where the middle 50% of the data lies.\n",
    "\n",
    "**Where:**\n",
    "- $ Q1 $ = 25th percentile (first quartile)  \n",
    "- $ Q3 $ = 75th percentile (third quartile)  \n",
    "- IQR = range of central data, often used to detect outliers\n"
   ]
  },
  {
   "cell_type": "code",
   "execution_count": 9,
   "id": "5fcc44cd",
   "metadata": {},
   "outputs": [
    {
     "name": "stdout",
     "output_type": "stream",
     "text": [
      "Quantiles (25%, 50%, 75%): [ 9.75 22.   34.25]\n"
     ]
    }
   ],
   "source": [
    "print(\"Quantiles (25%, 50%, 75%):\", st.quantiles(data))\n"
   ]
  },
  {
   "cell_type": "code",
   "execution_count": null,
   "id": "c037dbf7",
   "metadata": {},
   "outputs": [],
   "source": [
    "print(\"Skewness:\", st.skewness(data))\n"
   ]
  },
  {
   "cell_type": "code",
   "execution_count": null,
   "id": "c4223a8b",
   "metadata": {},
   "outputs": [],
   "source": [
    "print(\"Kurtosis:\", st.kurtosis(data))"
   ]
  }
 ],
 "metadata": {
  "kernelspec": {
   "display_name": "Python 3",
   "language": "python",
   "name": "python3"
  },
  "language_info": {
   "codemirror_mode": {
    "name": "ipython",
    "version": 3
   },
   "file_extension": ".py",
   "mimetype": "text/x-python",
   "name": "python",
   "nbconvert_exporter": "python",
   "pygments_lexer": "ipython3",
   "version": "3.13.3"
  }
 },
 "nbformat": 4,
 "nbformat_minor": 5
}

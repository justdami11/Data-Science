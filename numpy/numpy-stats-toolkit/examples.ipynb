{
 "cells": [
  {
   "cell_type": "markdown",
   "id": "1de95708",
   "metadata": {},
   "source": [
    "# NumPy Stats Toolkit — Examples\n",
    "\n",
    "This notebook demonstrates how to use each function in the `stats_toolkit.py` module for basic statistical analysis using only NumPy.\n"
   ]
  },
  {
   "cell_type": "code",
   "execution_count": 1,
   "id": "17cdc6eb",
   "metadata": {},
   "outputs": [],
   "source": [
    "import numpy as np\n",
    "import stats_toolkit as st\n",
    "\n"
   ]
  },
  {
   "cell_type": "code",
   "execution_count": 2,
   "id": "703ded1f",
   "metadata": {},
   "outputs": [],
   "source": [
    "data = np.array([4, 8, 6, 5, 3, 9, 7, 6, 5])\n",
    "matrix = np.array([[1, 2, 3], [4, 5, 6], [7, 8, 9]])\n"
   ]
  },
  {
   "cell_type": "markdown",
   "id": "0d7c32a6",
   "metadata": {},
   "source": [
    "## Mean\n",
    "\n",
    "The **mean** (or average) is the central value of a dataset. It is calculated by summing all the values and dividing by the number of elements. It represents the \"typical\" value in a distribution.\n",
    "\n",
    "$\n",
    "\\mu = \\frac{1}{n} \\sum_{i=1}^{n} x_i\n",
    "$\n",
    "\n"
   ]
  },
  {
   "cell_type": "code",
   "execution_count": 3,
   "id": "bffc243d",
   "metadata": {},
   "outputs": [
    {
     "name": "stdout",
     "output_type": "stream",
     "text": [
      "Mean: 5.888888888888889\n"
     ]
    }
   ],
   "source": [
    "print(f'Mean: {st.mean(data)}') "
   ]
  },
  {
   "cell_type": "markdown",
   "id": "5a98da8c",
   "metadata": {},
   "source": [
    "## Variance\n",
    "\n",
    "The **population variance** measures how much each value in the dataset differs from the mean, considering **all** values in the population. It is the average of the squared differences from the mean.\n",
    "\n",
    "$\n",
    "\\sigma^2 = \\frac{1}{n} \\sum_{i=1}^{n} (x_i - \\mu)^2\n",
    "$\n",
    "\n",
    "Use this when you are working with the entire population.\n"
   ]
  },
  {
   "cell_type": "code",
   "execution_count": 6,
   "id": "1d5359e2",
   "metadata": {},
   "outputs": [
    {
     "name": "stdout",
     "output_type": "stream",
     "text": [
      "Population variance: 3.209876543209876\n"
     ]
    }
   ],
   "source": [
    "print(f'Population variance: {st.population_variance(data)}')\n",
    "\n",
    "\n"
   ]
  },
  {
   "cell_type": "markdown",
   "id": "3992cb63",
   "metadata": {},
   "source": [
    "The **sample variance** is used when you only have a subset (sample) of the full population. It adjusts for the fact that you're estimating the variance by dividing by \\(n - 1\\) instead of \\(n\\), which corrects the bias.\n",
    "\n",
    "\\[\n",
    "s^2 = \\frac{1}{n - 1} \\sum_{i=1}^{n} (x_i - \\bar{x})^2\n",
    "\\]\n",
    "\n",
    "Use this when analyzing or modeling based on a sample, not the whole population."
   ]
  },
  {
   "cell_type": "code",
   "execution_count": 7,
   "id": "5c23f947",
   "metadata": {},
   "outputs": [
    {
     "name": "stdout",
     "output_type": "stream",
     "text": [
      "Sample variance: 3.6111111111111107\n"
     ]
    }
   ],
   "source": [
    "print(f'Sample variance: {st.sample_variance(data)}')"
   ]
  }
 ],
 "metadata": {
  "kernelspec": {
   "display_name": "Python 3",
   "language": "python",
   "name": "python3"
  },
  "language_info": {
   "codemirror_mode": {
    "name": "ipython",
    "version": 3
   },
   "file_extension": ".py",
   "mimetype": "text/x-python",
   "name": "python",
   "nbconvert_exporter": "python",
   "pygments_lexer": "ipython3",
   "version": "3.13.3"
  }
 },
 "nbformat": 4,
 "nbformat_minor": 5
}
